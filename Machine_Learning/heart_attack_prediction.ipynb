{
 "cells": [
  {
   "cell_type": "code",
   "execution_count": 10,
   "metadata": {
    "collapsed": true
   },
   "outputs": [],
   "source": [
    "import pandas as pd\n",
    "from sklearn.model_selection import train_test_split\n",
    "from sklearn.neighbors import KNeighborsClassifier"
   ]
  },
  {
   "cell_type": "code",
   "execution_count": 28,
   "outputs": [
    {
     "name": "stdout",
     "output_type": "stream",
     "text": [
      "    age  sex  cp  trtbps  chol  fbs  restecg  thalachh  exng  oldpeak  slp  \\\n",
      "0    63    1   3     145   233    1        0       150     0      2.3    0   \n",
      "1    37    1   2     130   250    0        1       187     0      3.5    0   \n",
      "2    41    0   1     130   204    0        0       172     0      1.4    2   \n",
      "3    56    1   1     120   236    0        1       178     0      0.8    2   \n",
      "4    57    0   0     120   354    0        1       163     1      0.6    2   \n",
      "5    57    1   0     140   192    0        1       148     0      0.4    1   \n",
      "6    56    0   1     140   294    0        0       153     0      1.3    1   \n",
      "7    44    1   1     120   263    0        1       173     0      0.0    2   \n",
      "8    52    1   2     172   199    1        1       162     0      0.5    2   \n",
      "9    57    1   2     150   168    0        1       174     0      1.6    2   \n",
      "10   54    1   0     140   239    0        1       160     0      1.2    2   \n",
      "11   48    0   2     130   275    0        1       139     0      0.2    2   \n",
      "12   49    1   1     130   266    0        1       171     0      0.6    2   \n",
      "13   64    1   3     110   211    0        0       144     1      1.8    1   \n",
      "14   58    0   3     150   283    1        0       162     0      1.0    2   \n",
      "15   50    0   2     120   219    0        1       158     0      1.6    1   \n",
      "16   58    0   2     120   340    0        1       172     0      0.0    2   \n",
      "17   66    0   3     150   226    0        1       114     0      2.6    0   \n",
      "18   43    1   0     150   247    0        1       171     0      1.5    2   \n",
      "19   69    0   3     140   239    0        1       151     0      1.8    2   \n",
      "20   59    1   0     135   234    0        1       161     0      0.5    1   \n",
      "21   44    1   2     130   233    0        1       179     1      0.4    2   \n",
      "22   42    1   0     140   226    0        1       178     0      0.0    2   \n",
      "23   61    1   2     150   243    1        1       137     1      1.0    1   \n",
      "24   40    1   3     140   199    0        1       178     1      1.4    2   \n",
      "25   71    0   1     160   302    0        1       162     0      0.4    2   \n",
      "26   59    1   2     150   212    1        1       157     0      1.6    2   \n",
      "27   51    1   2     110   175    0        1       123     0      0.6    2   \n",
      "28   65    0   2     140   417    1        0       157     0      0.8    2   \n",
      "29   53    1   2     130   197    1        0       152     0      1.2    0   \n",
      "30   41    0   1     105   198    0        1       168     0      0.0    2   \n",
      "31   65    1   0     120   177    0        1       140     0      0.4    2   \n",
      "32   44    1   1     130   219    0        0       188     0      0.0    2   \n",
      "33   54    1   2     125   273    0        0       152     0      0.5    0   \n",
      "34   51    1   3     125   213    0        0       125     1      1.4    2   \n",
      "35   46    0   2     142   177    0        0       160     1      1.4    0   \n",
      "36   54    0   2     135   304    1        1       170     0      0.0    2   \n",
      "37   54    1   2     150   232    0        0       165     0      1.6    2   \n",
      "38   65    0   2     155   269    0        1       148     0      0.8    2   \n",
      "39   65    0   2     160   360    0        0       151     0      0.8    2   \n",
      "40   51    0   2     140   308    0        0       142     0      1.5    2   \n",
      "41   48    1   1     130   245    0        0       180     0      0.2    1   \n",
      "42   45    1   0     104   208    0        0       148     1      3.0    1   \n",
      "43   53    0   0     130   264    0        0       143     0      0.4    1   \n",
      "44   39    1   2     140   321    0        0       182     0      0.0    2   \n",
      "45   52    1   1     120   325    0        1       172     0      0.2    2   \n",
      "46   44    1   2     140   235    0        0       180     0      0.0    2   \n",
      "47   47    1   2     138   257    0        0       156     0      0.0    2   \n",
      "48   53    0   2     128   216    0        0       115     0      0.0    2   \n",
      "49   53    0   0     138   234    0        0       160     0      0.0    2   \n",
      "\n",
      "    caa  thall  output  \n",
      "0     0      1       1  \n",
      "1     0      2       1  \n",
      "2     0      2       1  \n",
      "3     0      2       1  \n",
      "4     0      2       1  \n",
      "5     0      1       1  \n",
      "6     0      2       1  \n",
      "7     0      3       1  \n",
      "8     0      3       1  \n",
      "9     0      2       1  \n",
      "10    0      2       1  \n",
      "11    0      2       1  \n",
      "12    0      2       1  \n",
      "13    0      2       1  \n",
      "14    0      2       1  \n",
      "15    0      2       1  \n",
      "16    0      2       1  \n",
      "17    0      2       1  \n",
      "18    0      2       1  \n",
      "19    2      2       1  \n",
      "20    0      3       1  \n",
      "21    0      2       1  \n",
      "22    0      2       1  \n",
      "23    0      2       1  \n",
      "24    0      3       1  \n",
      "25    2      2       1  \n",
      "26    0      2       1  \n",
      "27    0      2       1  \n",
      "28    1      2       1  \n",
      "29    0      2       1  \n",
      "30    1      2       1  \n",
      "31    0      3       1  \n",
      "32    0      2       1  \n",
      "33    1      2       1  \n",
      "34    1      2       1  \n",
      "35    0      2       1  \n",
      "36    0      2       1  \n",
      "37    0      3       1  \n",
      "38    0      2       1  \n",
      "39    0      2       1  \n",
      "40    1      2       1  \n",
      "41    0      2       1  \n",
      "42    0      2       1  \n",
      "43    0      2       1  \n",
      "44    0      2       1  \n",
      "45    0      2       1  \n",
      "46    0      2       1  \n",
      "47    0      2       1  \n",
      "48    0      0       1  \n",
      "49    0      2       1  \n",
      "\n",
      "\n",
      "age           int64\n",
      "sex           int64\n",
      "cp            int64\n",
      "trtbps        int64\n",
      "chol          int64\n",
      "fbs           int64\n",
      "restecg       int64\n",
      "thalachh      int64\n",
      "exng          int64\n",
      "oldpeak     float64\n",
      "slp           int64\n",
      "caa           int64\n",
      "thall         int64\n",
      "output        int64\n",
      "dtype: object\n"
     ]
    }
   ],
   "source": [
    "# data 설정하기\n",
    "data = pd.read_csv('../dataset/heartattack/heart.csv')\n",
    "\n",
    "print(data.head(50))\n",
    "print(\"\\n\")\n",
    "print(data.dtypes)\n",
    "\n",
    "data['sex'] = data['sex'].astype('category') # 성별 category\n",
    "data['cp'] =  data['cp'].astype('category') # 가슴통증 category\n",
    "data['fbs'] = data['fbs'].astype('category') # 혈중 당 category\n",
    "data['restecg'] = data['restecg'].astype('category')\n",
    "data['exng'] = data['exng'].astype('category')\n",
    "data['output'] = data['output'].astype('category')"
   ],
   "metadata": {
    "collapsed": false,
    "pycharm": {
     "name": "#%%\n"
    }
   }
  },
  {
   "cell_type": "code",
   "execution_count": 37,
   "outputs": [
    {
     "data": {
      "text/plain": "KNeighborsClassifier()"
     },
     "execution_count": 37,
     "metadata": {},
     "output_type": "execute_result"
    }
   ],
   "source": [
    "# 전처리\n",
    "trainX, testX, trainY, testY = \\\n",
    "    train_test_split(data[[col for col in data.columns if col not in 'output']], data['output'], test_size=0.2)\n",
    "\n",
    "knn = KNeighborsClassifier(n_neighbors=5, p=2, metric='minkowski')\n",
    "knn.fit(trainX, trainY)"
   ],
   "metadata": {
    "collapsed": false,
    "pycharm": {
     "name": "#%%\n"
    }
   }
  },
  {
   "cell_type": "code",
   "execution_count": 38,
   "outputs": [
    {
     "name": "stdout",
     "output_type": "stream",
     "text": [
      "0.7213114754098361\n"
     ]
    }
   ],
   "source": [
    "predY = knn.predict(testX)\n",
    "print((predY == testY).mean())"
   ],
   "metadata": {
    "collapsed": false,
    "pycharm": {
     "name": "#%%\n"
    }
   }
  },
  {
   "cell_type": "code",
   "execution_count": null,
   "outputs": [],
   "source": [],
   "metadata": {
    "collapsed": false,
    "pycharm": {
     "name": "#%%\n"
    }
   }
  }
 ],
 "metadata": {
  "kernelspec": {
   "display_name": "Python 3",
   "language": "python",
   "name": "python3"
  },
  "language_info": {
   "codemirror_mode": {
    "name": "ipython",
    "version": 2
   },
   "file_extension": ".py",
   "mimetype": "text/x-python",
   "name": "python",
   "nbconvert_exporter": "python",
   "pygments_lexer": "ipython2",
   "version": "2.7.6"
  }
 },
 "nbformat": 4,
 "nbformat_minor": 0
}